{
  "cells": [
    {
      "cell_type": "markdown",
      "metadata": {
        "id": "view-in-github",
        "colab_type": "text"
      },
      "source": [
        "<a href=\"https://colab.research.google.com/github/Teasotea/IASA_IntellectualDecisionSupportSystems/blob/main/ISPPR_Lab2_datasetA.ipynb\" target=\"_parent\"><img src=\"https://colab.research.google.com/assets/colab-badge.svg\" alt=\"Open In Colab\"/></a>"
      ]
    },
    {
      "cell_type": "markdown",
      "source": [
        "# Тема: Навчання регресiйної моделi методами градiєнтного спуску в TensorFlow Основи API Keras (tf.keras). Використання tf.data – API Dataset.\n",
        "### Варіант 20\n",
        "\n",
        "Перед виконанням роботи розібрати код у наступній послідовності:\n",
        "\n",
        "Розпаралелювання процесу навчання нейронних мереж в TensorFlow. \n",
        "Побудова нейромережевої моделі в TensorFlow 2 для класифікації та регресії. \n",
        "Основи API Keras (tf.keras)\n",
        "\n",
        "1. https://github.com/rasbt/python-machine-learning-book-3rd-edition/blob/master/ch13/ch13_part1.py\n",
        "\n",
        "2. https://github.com/rasbt/python-machine-learning-book-3rd-edition/blob/master/ch13/ch13_part2.py\n",
        "\n",
        "3. https://github.com/rasbt/python-machine-learning-book-3rd-edition/blob/master/ch13/ch13_part3.py\n",
        "\n",
        "4. https://github.com/rasbt/python-machine-learning-book-3rd-edition/blob/master/ch14/ch14_part1.py\n",
        "\n",
        "5. https://github.com/rasbt/python-machine-learning-book-3rd-edition/blob/master/ch14/ch14_part2.py\n",
        "\n",
        "6. https://github.com/rasbt/python-machine-learning-book-3rd-edition/blob/master/ch14/ch14_part3.py\n",
        "\n",
        "Є версії ipynb: https://github.com/rasbt/python-machine-learning-book-3rd-edition/tree/master/ch13 \n",
        "https://github.com/rasbt/python-machine-learning-book-3rd-edition/tree/master/ch14\n",
        "\n",
        "Sebastian Raschka, Vahid Mirjalili. Python Machine Learning. Third Edition. Machine Learning and Deep Learning with Python, scikit-learn, and TensorFlow 2. Packt Publishing, 2019.\n",
        "\n"
      ],
      "metadata": {
        "id": "ZsLh3b__VZnI"
      }
    },
    {
      "cell_type": "markdown",
      "source": [
        "## Хiд виконання роботи\n",
        "\n",
        "Написати програму, яка задає i навчає регресiйну модель методами градiєн-\n",
        "тного спуску:\n",
        "\n",
        "1. Завантажити початковi данi.\n",
        "2. Представити данi графiчно.\n",
        "3. Iнiцiалiзувати параметри: швидкiсть навчання, кiлькiсть епох (=100)к iлькiсть пакетiв i параметр регуляризацiї.\n",
        "4. Iнiцiалiзувати вектор параметрiв.\n",
        "5. Реалiзувати функцiю, яка задає модель, наприклад полiномiальну регресiю\n",
        "6. Задати функцiю втрат: MSE з регуляризацiєю за нормами L1.\n",
        "7. Задати операцiю, яка буде викликатися на кожнiй iтерацiї алгоритма мiнi-пакетного градiєнтного спуску\n",
        "8. Виконати навчання моделi.\n",
        "9. Виводити значення функцiї втрат через кожнi 10 епох.\n",
        "10. Зберегти контрольнi точки через регулярнi iнтервали пiд час навчання. В кiнцi навчання зберегти результуючу модель. Вiдновити останню\n",
        "контрольну точку при запуску, якщо навчання було перервано.\n",
        "11. Налаштувати гiперпараметр швидкiсть навчання i додатково розмiр мiнi-пакета. Подивитися на форму кривої\n",
        "навчання.\n",
        "12. Дослiдити рiзнi значення параметра регуляризацiї i пiдiбрати найкраще\n",
        "з них, якщо згiдно з варiантом.\n",
        "\n",
        "13. Побудувати графiк з початковими даними та лiнiєю регресiї.\n",
        "\n",
        "\n",
        "Згідно з варіантом: Полiномiальна регресiя, алгоритм градiєнтного спуску за мiнi-батчами,\n",
        "MSE з регуляризацiєю за нормою L1.\n",
        "Початковi данi:\n",
        "\n",
        "(а) X_data = np.linspace(−1,1,100)\n",
        "num_coef=5\n",
        "coef =[ 10 , 20 , 3 , 40 , 5]\n",
        "y_data=0\n",
        "for i in range( num_coef ) :\n",
        "y_data += coef[ i ] ∗ np.power(X_data, i )\n",
        "y_data += np.random.randn(∗X_data.shape) ∗ 2.5\n",
        "\n",
        "(б) sklearn.datasets.load_boston"
      ],
      "metadata": {
        "id": "KNKH7dq3LlUg"
      }
    },
    {
      "cell_type": "markdown",
      "source": [
        "# Завантажимо дані та представимо їх графічно"
      ],
      "metadata": {
        "id": "bBH524AI8eYj"
      }
    },
    {
      "cell_type": "code",
      "source": [
        "import numpy as np\n",
        "import pandas as pd\n",
        "import matplotlib.pyplot as plt\n",
        "from matplotlib.pyplot import figure\n",
        "import seaborn as sns\n",
        "import random\n",
        "\n",
        "import pickle\n",
        "import datetime \n",
        "import os\n",
        "\n",
        "from sklearn.model_selection import train_test_split, GridSearchCV\n",
        "from sklearn.metrics import mean_squared_error, mean_absolute_error, r2_score"
      ],
      "metadata": {
        "id": "ufUALoG-CRHv"
      },
      "execution_count": null,
      "outputs": []
    },
    {
      "cell_type": "code",
      "source": [
        "X_data = np.linspace(-1,1,100)\n",
        "num_coef=5\n",
        "coef =[ 10 , 20 , 3 , 40 , 5]\n",
        "y_data=0\n",
        "for i in range( num_coef ): \n",
        "  y_data += coef[ i ] * np.power(X_data, i) \n",
        "y_data += np.random.randn(*X_data.shape) * 2.5"
      ],
      "metadata": {
        "id": "YSiDXLsOMLNA"
      },
      "execution_count": null,
      "outputs": []
    },
    {
      "cell_type": "code",
      "source": [
        "df = pd.DataFrame([X_data, y_data]).T\n",
        "df.columns = ['X', 'Y']"
      ],
      "metadata": {
        "id": "Q9eNLEZD75I6"
      },
      "execution_count": null,
      "outputs": []
    },
    {
      "cell_type": "code",
      "source": [
        "df.describe()"
      ],
      "metadata": {
        "colab": {
          "base_uri": "https://localhost:8080/",
          "height": 300
        },
        "id": "KHpmc1rt836X",
        "outputId": "5b2fdbcd-7c51-428f-f269-e6476e893137"
      },
      "execution_count": null,
      "outputs": [
        {
          "output_type": "execute_result",
          "data": {
            "text/plain": [
              "                  X           Y\n",
              "count  1.000000e+02  100.000000\n",
              "mean   8.215650e-17   12.019035\n",
              "std    5.860907e-01   27.434258\n",
              "min   -1.000000e+00  -45.299634\n",
              "25%   -5.000000e-01   -4.233720\n",
              "50%    5.551115e-17    9.978452\n",
              "75%    5.000000e-01   25.202724\n",
              "max    1.000000e+00   79.528934"
            ],
            "text/html": [
              "\n",
              "  <div id=\"df-252afc7c-9a75-4332-866c-39512514ed67\">\n",
              "    <div class=\"colab-df-container\">\n",
              "      <div>\n",
              "<style scoped>\n",
              "    .dataframe tbody tr th:only-of-type {\n",
              "        vertical-align: middle;\n",
              "    }\n",
              "\n",
              "    .dataframe tbody tr th {\n",
              "        vertical-align: top;\n",
              "    }\n",
              "\n",
              "    .dataframe thead th {\n",
              "        text-align: right;\n",
              "    }\n",
              "</style>\n",
              "<table border=\"1\" class=\"dataframe\">\n",
              "  <thead>\n",
              "    <tr style=\"text-align: right;\">\n",
              "      <th></th>\n",
              "      <th>X</th>\n",
              "      <th>Y</th>\n",
              "    </tr>\n",
              "  </thead>\n",
              "  <tbody>\n",
              "    <tr>\n",
              "      <th>count</th>\n",
              "      <td>1.000000e+02</td>\n",
              "      <td>100.000000</td>\n",
              "    </tr>\n",
              "    <tr>\n",
              "      <th>mean</th>\n",
              "      <td>8.215650e-17</td>\n",
              "      <td>12.019035</td>\n",
              "    </tr>\n",
              "    <tr>\n",
              "      <th>std</th>\n",
              "      <td>5.860907e-01</td>\n",
              "      <td>27.434258</td>\n",
              "    </tr>\n",
              "    <tr>\n",
              "      <th>min</th>\n",
              "      <td>-1.000000e+00</td>\n",
              "      <td>-45.299634</td>\n",
              "    </tr>\n",
              "    <tr>\n",
              "      <th>25%</th>\n",
              "      <td>-5.000000e-01</td>\n",
              "      <td>-4.233720</td>\n",
              "    </tr>\n",
              "    <tr>\n",
              "      <th>50%</th>\n",
              "      <td>5.551115e-17</td>\n",
              "      <td>9.978452</td>\n",
              "    </tr>\n",
              "    <tr>\n",
              "      <th>75%</th>\n",
              "      <td>5.000000e-01</td>\n",
              "      <td>25.202724</td>\n",
              "    </tr>\n",
              "    <tr>\n",
              "      <th>max</th>\n",
              "      <td>1.000000e+00</td>\n",
              "      <td>79.528934</td>\n",
              "    </tr>\n",
              "  </tbody>\n",
              "</table>\n",
              "</div>\n",
              "      <button class=\"colab-df-convert\" onclick=\"convertToInteractive('df-252afc7c-9a75-4332-866c-39512514ed67')\"\n",
              "              title=\"Convert this dataframe to an interactive table.\"\n",
              "              style=\"display:none;\">\n",
              "        \n",
              "  <svg xmlns=\"http://www.w3.org/2000/svg\" height=\"24px\"viewBox=\"0 0 24 24\"\n",
              "       width=\"24px\">\n",
              "    <path d=\"M0 0h24v24H0V0z\" fill=\"none\"/>\n",
              "    <path d=\"M18.56 5.44l.94 2.06.94-2.06 2.06-.94-2.06-.94-.94-2.06-.94 2.06-2.06.94zm-11 1L8.5 8.5l.94-2.06 2.06-.94-2.06-.94L8.5 2.5l-.94 2.06-2.06.94zm10 10l.94 2.06.94-2.06 2.06-.94-2.06-.94-.94-2.06-.94 2.06-2.06.94z\"/><path d=\"M17.41 7.96l-1.37-1.37c-.4-.4-.92-.59-1.43-.59-.52 0-1.04.2-1.43.59L10.3 9.45l-7.72 7.72c-.78.78-.78 2.05 0 2.83L4 21.41c.39.39.9.59 1.41.59.51 0 1.02-.2 1.41-.59l7.78-7.78 2.81-2.81c.8-.78.8-2.07 0-2.86zM5.41 20L4 18.59l7.72-7.72 1.47 1.35L5.41 20z\"/>\n",
              "  </svg>\n",
              "      </button>\n",
              "      \n",
              "  <style>\n",
              "    .colab-df-container {\n",
              "      display:flex;\n",
              "      flex-wrap:wrap;\n",
              "      gap: 12px;\n",
              "    }\n",
              "\n",
              "    .colab-df-convert {\n",
              "      background-color: #E8F0FE;\n",
              "      border: none;\n",
              "      border-radius: 50%;\n",
              "      cursor: pointer;\n",
              "      display: none;\n",
              "      fill: #1967D2;\n",
              "      height: 32px;\n",
              "      padding: 0 0 0 0;\n",
              "      width: 32px;\n",
              "    }\n",
              "\n",
              "    .colab-df-convert:hover {\n",
              "      background-color: #E2EBFA;\n",
              "      box-shadow: 0px 1px 2px rgba(60, 64, 67, 0.3), 0px 1px 3px 1px rgba(60, 64, 67, 0.15);\n",
              "      fill: #174EA6;\n",
              "    }\n",
              "\n",
              "    [theme=dark] .colab-df-convert {\n",
              "      background-color: #3B4455;\n",
              "      fill: #D2E3FC;\n",
              "    }\n",
              "\n",
              "    [theme=dark] .colab-df-convert:hover {\n",
              "      background-color: #434B5C;\n",
              "      box-shadow: 0px 1px 3px 1px rgba(0, 0, 0, 0.15);\n",
              "      filter: drop-shadow(0px 1px 2px rgba(0, 0, 0, 0.3));\n",
              "      fill: #FFFFFF;\n",
              "    }\n",
              "  </style>\n",
              "\n",
              "      <script>\n",
              "        const buttonEl =\n",
              "          document.querySelector('#df-252afc7c-9a75-4332-866c-39512514ed67 button.colab-df-convert');\n",
              "        buttonEl.style.display =\n",
              "          google.colab.kernel.accessAllowed ? 'block' : 'none';\n",
              "\n",
              "        async function convertToInteractive(key) {\n",
              "          const element = document.querySelector('#df-252afc7c-9a75-4332-866c-39512514ed67');\n",
              "          const dataTable =\n",
              "            await google.colab.kernel.invokeFunction('convertToInteractive',\n",
              "                                                     [key], {});\n",
              "          if (!dataTable) return;\n",
              "\n",
              "          const docLinkHtml = 'Like what you see? Visit the ' +\n",
              "            '<a target=\"_blank\" href=https://colab.research.google.com/notebooks/data_table.ipynb>data table notebook</a>'\n",
              "            + ' to learn more about interactive tables.';\n",
              "          element.innerHTML = '';\n",
              "          dataTable['output_type'] = 'display_data';\n",
              "          await google.colab.output.renderOutput(dataTable, element);\n",
              "          const docLink = document.createElement('div');\n",
              "          docLink.innerHTML = docLinkHtml;\n",
              "          element.appendChild(docLink);\n",
              "        }\n",
              "      </script>\n",
              "    </div>\n",
              "  </div>\n",
              "  "
            ]
          },
          "metadata": {},
          "execution_count": 4
        }
      ]
    },
    {
      "cell_type": "code",
      "source": [
        "plt.scatter(df.X, df.Y)"
      ],
      "metadata": {
        "colab": {
          "base_uri": "https://localhost:8080/",
          "height": 447
        },
        "id": "snR1BIlp_7Pi",
        "outputId": "411c597d-c358-468f-a85e-9c231a274cca"
      },
      "execution_count": null,
      "outputs": [
        {
          "output_type": "execute_result",
          "data": {
            "text/plain": [
              "<matplotlib.collections.PathCollection at 0x7f799c9b9de0>"
            ]
          },
          "metadata": {},
          "execution_count": 5
        },
        {
          "output_type": "display_data",
          "data": {
            "text/plain": [
              "<Figure size 640x480 with 1 Axes>"
            ],
            "image/png": "[encoded data removed]"
          },
          "metadata": {}
        }
      ]
    },
    {
      "cell_type": "markdown",
      "source": [
        "Бачимо, що графік нагадує поліноміальну функцію 3го порядку"
      ],
      "metadata": {
        "id": "K7Vk1AHVACRF"
      }
    },
    {
      "cell_type": "code",
      "source": [
        "X_train, X_test, y_train, y_test = train_test_split(df.X.to_numpy().reshape(-1,1), df.Y.to_numpy().reshape(-1,1), test_size=0.20, random_state=42)"
      ],
      "metadata": {
        "id": "tuhyqHvNMLWD"
      },
      "execution_count": null,
      "outputs": []
    },
    {
      "cell_type": "code",
      "source": [
        "print(\"Навчальна вибірка: \", X_train.shape, y_train.shape)\n",
        "print(\"Тестова вибірка: \", X_test.shape, y_test.shape)"
      ],
      "metadata": {
        "colab": {
          "base_uri": "https://localhost:8080/"
        },
        "id": "K-N4In8acbIb",
        "outputId": "fea3d0a2-219c-4654-fcf8-76daf3cc4e9c"
      },
      "execution_count": null,
      "outputs": [
        {
          "output_type": "stream",
          "name": "stdout",
          "text": [
            "Навчальна вибірка:  (80, 1) (80, 1)\n",
            "Тестова вибірка:  (20, 1) (20, 1)\n"
          ]
        }
      ]
    },
    {
      "cell_type": "markdown",
      "source": [
        " # Побудова моделі, збереження чек-поінтів"
      ],
      "metadata": {
        "id": "9_OgeR-a932Z"
      }
    },
    {
      "cell_type": "markdown",
      "source": [
        "Будемо використовувати лінійну регресійну модель з такими базисними функціями: $\\{ 1, x, x^2, x^3\\}$:\n",
        "\n",
        "$$ f(x) = \\omega_1 x^3 + \\omega_2 x^2 + \\omega_3 x + \\omega_4$$\n",
        "\n",
        "функція втрат:\n",
        "\n",
        "$$ LOSS = \\cfrac{1}{n} \\sum \\limits_{i = 1}^n \\left(y_{true}^{(i)} - f(x^{(i)}) \\right)^2 + \\lambda \\sum \\limits_{i = 1}^{n} | w_i|$$\n"
      ],
      "metadata": {
        "id": "FwF24k6Wan8W"
      }
    },
    {
      "cell_type": "code",
      "source": [
        "class PolynomialRegression:\n",
        "    def __init__(self, degree, learning_rate=0.01, batch_size=32, lambda_=0.01, max_iter=1000, models_dir = \"tr\"):\n",
        "        if not os.path.exists(\"Saved Models\"):\n",
        "            os.makedirs(\"Saved Models\")\n",
        "        self.models_dir = models_dir\n",
        "\n",
        "        self.degree = degree\n",
        "        self.learning_rate = learning_rate\n",
        "        self.batch_size = batch_size\n",
        "        self.lambda_ = lambda_\n",
        "        self.max_iter = max_iter\n",
        "        self.theta = None\n",
        "\n",
        "    def fit(self, X, y):\n",
        "\n",
        "        current_time = datetime.datetime.now()\n",
        "        current_time = current_time.strftime(\"%d-%m-%Y_%H-%M-%S-%f\")\n",
        "        path = os.path.join(\"Saved Models\", current_time )\n",
        "        self.models_dir = path\n",
        "        os.makedirs(path)\n",
        "\n",
        "        X_poly = self._polynomial_features(X)\n",
        "        m, n = X_poly.shape\n",
        "\n",
        "        self.theta = np.zeros(n)\n",
        "        num_batches = int(np.ceil(m / self.batch_size))\n",
        "\n",
        "        for j in range(self.max_iter):\n",
        "\n",
        "            for i in range(num_batches):\n",
        "                start = i * self.batch_size\n",
        "                end = (i + 1) * self.batch_size\n",
        "                X_batch = X_poly[start:end]\n",
        "                y_batch = y[start:end]\n",
        "                \n",
        "                gradients = self._compute_gradients(X_batch, y_batch)\n",
        "                self.theta -= self.learning_rate * gradients\n",
        "\n",
        "            if j%10 == 0:\n",
        "                print(f\"epoch {j} \\t loss = {self._compute_loss(X_poly, y)}\")\n",
        "                saved_model = PolynomialRegression(gradients, self.models_dir)\n",
        "                model_path  = os.path.join(self.models_dir, str(j))\n",
        "                file = open(model_path, \"wb\")\n",
        "                pickle.dump(saved_model, file)\n",
        "                file.close()\n",
        "            \n",
        "        return gradients\n",
        "\n",
        "    def predict(self, X):\n",
        "        X_poly = self._polynomial_features(X)\n",
        "        return np.dot(X_poly, self.theta)\n",
        "\n",
        "    def _polynomial_features(self, X):\n",
        "        m = X.shape[0]\n",
        "        X_poly = np.ones((m, self.degree + 1))\n",
        "\n",
        "        for d in range(1, self.degree + 1):\n",
        "            X_poly[:, d] = np.power(X, d)\n",
        "\n",
        "        return X_poly\n",
        "\n",
        "    def _compute_gradients(self, X, y):\n",
        "        m, n = X.shape\n",
        "        predictions = np.dot(X, self.theta)\n",
        "        errors = predictions - y\n",
        "\n",
        "        gradients = (1 / m) * np.dot(X.T, errors)\n",
        "        gradients[1:] += (self.lambda_ / m) * np.sign(self.theta[1:])\n",
        "\n",
        "        return gradients\n",
        "\n",
        "    def _compute_loss(self, X, y):\n",
        "        m = X.shape\n",
        "        predictions = np.dot(X, self.theta)\n",
        "        errors = predictions - y\n",
        "        mse_loss = np.mean(np.square(errors))\n",
        "        regularization_term = self.lambda_ * np.sum(np.abs(self.theta[1:]))\n",
        "        loss = mse_loss + regularization_term\n",
        "\n",
        "        return loss\n",
        "\n",
        "    def load_models(self):\n",
        "        models = {\"epoch\": [], \"model\": []}\n",
        "        for file in os.listdir(self.models_dir):\n",
        "            file_path = os.path.join(self.models_dir, file)\n",
        "            \n",
        "            with open(file_path, \"rb\") as f:\n",
        "                model = pickle.load(f)\n",
        "            \n",
        "            models[\"epoch\"].append(int(file))\n",
        "            models[\"model\"].append(model)\n",
        "        \n",
        "        return models"
      ],
      "metadata": {
        "id": "m_OVr6fAP4FU"
      },
      "execution_count": null,
      "outputs": []
    },
    {
      "cell_type": "code",
      "source": [
        "train_df = pd.DataFrame([np.squeeze(X_train), np.squeeze(y_train)]).T\n",
        "train_df.columns = ['X', 'Y']\n",
        "test_df = pd.DataFrame([np.squeeze(X_test), np.squeeze(y_test)]).T\n",
        "test_df.columns = ['X', 'Y']"
      ],
      "metadata": {
        "id": "RlrG1lCOpWCM"
      },
      "execution_count": null,
      "outputs": []
    },
    {
      "cell_type": "code",
      "source": [
        "model = PolynomialRegression(degree=3, learning_rate=0.1, batch_size=2, lambda_=0.01, max_iter=100)\n",
        "model.fit(train_df.X, train_df.Y)"
      ],
      "metadata": {
        "id": "u0E2cevqP5xH",
        "colab": {
          "base_uri": "https://localhost:8080/"
        },
        "outputId": "43c55cad-a764-4ce9-d2da-cbf4e2a3c5bc"
      },
      "execution_count": null,
      "outputs": [
        {
          "output_type": "stream",
          "name": "stdout",
          "text": [
            "epoch 0 \t loss = 31.487036690901977\n",
            "epoch 10 \t loss = 10.273549631609011\n",
            "epoch 20 \t loss = 7.919965827725137\n",
            "epoch 30 \t loss = 7.299963991204913\n",
            "epoch 40 \t loss = 7.130606812739533\n",
            "epoch 50 \t loss = 7.081481494035259\n",
            "epoch 60 \t loss = 7.06589770840353\n",
            "epoch 70 \t loss = 7.060368592361077\n",
            "epoch 80 \t loss = 7.058171840555703\n",
            "epoch 90 \t loss = 7.057214713571451\n"
          ]
        },
        {
          "output_type": "execute_result",
          "data": {
            "text/plain": [
              "array([0.83356926, 0.50819446, 0.43059636, 0.37021589])"
            ]
          },
          "metadata": {},
          "execution_count": 10
        }
      ]
    },
    {
      "cell_type": "code",
      "source": [
        "y_pred = model.predict(test_df.X)\n",
        "y_true = test_df.Y"
      ],
      "metadata": {
        "id": "hMYNvzO7ubxF"
      },
      "execution_count": null,
      "outputs": []
    },
    {
      "cell_type": "code",
      "source": [
        "mse = mean_squared_error(y_true, y_pred)\n",
        "rmse = np.sqrt(mse)\n",
        "mae = mean_absolute_error(y_true, y_pred)\n",
        "r2 = r2_score(test_df.Y, y_pred)\n",
        "\n",
        "# Print evaluation results\n",
        "print(\"Mean Squared Error (MSE):\", mse)\n",
        "print(\"Root Mean Squared Error (RMSE):\", rmse)\n",
        "print(\"Mean Absolute Error (MAE):\", mae)\n",
        "print(\"R-squared (R2) Score:\", r2)\n"
      ],
      "metadata": {
        "colab": {
          "base_uri": "https://localhost:8080/"
        },
        "id": "o1q3u428P4UQ",
        "outputId": "a43ea95d-c6c6-4c06-e941-6269dca8ff36"
      },
      "execution_count": null,
      "outputs": [
        {
          "output_type": "stream",
          "name": "stdout",
          "text": [
            "Mean Squared Error (MSE): 4.304358380041828\n",
            "Root Mean Squared Error (RMSE): 2.0746947679217365\n",
            "Mean Absolute Error (MAE): 1.713685059293016\n",
            "R-squared (R2) Score: 0.9925875484638506\n"
          ]
        }
      ]
    },
    {
      "cell_type": "code",
      "source": [
        "ax = plt.axes()\n",
        "ax.set_xlabel('X')\n",
        "ax.set_ylabel('Y')\n",
        "\n",
        "plt.plot(X_data, model.predict(df.X), linewidth= 2, color = \"r\");\n",
        "plt.scatter(X_data, y_data);\n",
        "plt.show()"
      ],
      "metadata": {
        "colab": {
          "base_uri": "https://localhost:8080/",
          "height": 449
        },
        "id": "dtPV71AFw6Xp",
        "outputId": "190c24d4-cb78-4cea-a3d2-ec0a17d86d3c"
      },
      "execution_count": null,
      "outputs": [
        {
          "output_type": "display_data",
          "data": {
            "text/plain": [
              "<Figure size 640x480 with 1 Axes>"
            ],
            "image/png": "[encoded data removed]"
          },
          "metadata": {}
        }
      ]
    },
    {
      "cell_type": "markdown",
      "source": [
        "# Налаштування гіперпараметрів\n",
        "\n",
        "Будемо налаштовувати такі параметри, як: `learning_rate`, `batch_size`\n",
        "\n",
        "Напишемо власну функцію для рещітчастого пошуку"
      ],
      "metadata": {
        "id": "GlamujYLm7KT"
      }
    },
    {
      "cell_type": "code",
      "source": [
        "learning_rates = [0.01, 0.1, 0.5]\n",
        "batch_sizes = [2, 4, 8, 16]"
      ],
      "metadata": {
        "id": "gN5TRx1DpcJx"
      },
      "execution_count": null,
      "outputs": []
    },
    {
      "cell_type": "code",
      "source": [
        "def grid_search_polynomial_regression(lr, bs):\n",
        "    mses = []\n",
        "    for r in lr:\n",
        "      for s in bs:\n",
        "          model = PolynomialRegression(degree=3, learning_rate=r, batch_size=s, lambda_=0.01, max_iter=100)\n",
        "          model.fit(train_df.X, train_df.Y)\n",
        "          y_pred = model.predict(test_df.X)\n",
        "          y_true = test_df.Y\n",
        "          mse = mean_squared_error(y_true, y_pred)\n",
        "\n",
        "          mses.append([mse, r, s])\n",
        "\n",
        "    return mses"
      ],
      "metadata": {
        "id": "zUgD_ht8pcW7"
      },
      "execution_count": null,
      "outputs": []
    },
    {
      "cell_type": "code",
      "source": [
        "param_search = grid_search_polynomial_regression(learning_rates, batch_sizes)"
      ],
      "metadata": {
        "colab": {
          "base_uri": "https://localhost:8080/"
        },
        "id": "YvliqoHcp3j8",
        "outputId": "18fe1731-18a3-4c0b-c8ce-49e975bb8122"
      },
      "execution_count": null,
      "outputs": [
        {
          "output_type": "stream",
          "name": "stdout",
          "text": [
            "epoch 0 \t loss = 594.612692355327\n",
            "epoch 10 \t loss = 29.018370596409603\n",
            "epoch 20 \t loss = 17.343295149203943\n",
            "epoch 30 \t loss = 15.772505952850452\n",
            "epoch 40 \t loss = 14.611879044425512\n",
            "epoch 50 \t loss = 13.620911832670568\n",
            "epoch 60 \t loss = 12.765223644048861\n",
            "epoch 70 \t loss = 12.022417271970951\n",
            "epoch 80 \t loss = 11.375541809017522\n",
            "epoch 90 \t loss = 10.811147136912103\n",
            "epoch 0 \t loss = 750.8037732527135\n",
            "epoch 10 \t loss = 107.05338765026748\n",
            "epoch 20 \t loss = 31.408386542461013\n",
            "epoch 30 \t loss = 19.82356830113618\n",
            "epoch 40 \t loss = 17.476869131667485\n",
            "epoch 50 \t loss = 16.531802216257915\n",
            "epoch 60 \t loss = 15.840185403344497\n",
            "epoch 70 \t loss = 15.229358967377244\n",
            "epoch 80 \t loss = 14.669394960326716\n",
            "epoch 90 \t loss = 14.15179266497205\n",
            "epoch 0 \t loss = 847.1386730874993\n",
            "epoch 10 \t loss = 285.7899397533485\n",
            "epoch 20 \t loss = 116.30849993146983\n",
            "epoch 30 \t loss = 55.77963100536514\n",
            "epoch 40 \t loss = 32.79531926149562\n",
            "epoch 50 \t loss = 23.776892747989315\n",
            "epoch 60 \t loss = 20.07564612621854\n",
            "epoch 70 \t loss = 18.41724809974737\n",
            "epoch 80 \t loss = 17.551135882253263\n",
            "epoch 90 \t loss = 16.998316877580198\n",
            "epoch 0 \t loss = 900.8263022796609\n",
            "epoch 10 \t loss = 504.36957003083745\n",
            "epoch 20 \t loss = 300.30246467823855\n",
            "epoch 30 \t loss = 187.16155756626756\n",
            "epoch 40 \t loss = 121.2815361997097\n",
            "epoch 50 \t loss = 81.76868906028075\n",
            "epoch 60 \t loss = 57.65505639073805\n",
            "epoch 70 \t loss = 42.78041737929196\n",
            "epoch 80 \t loss = 33.532607027166236\n",
            "epoch 90 \t loss = 27.739805836853368\n",
            "epoch 0 \t loss = 31.487036690901977\n",
            "epoch 10 \t loss = 10.273549631609011\n",
            "epoch 20 \t loss = 7.919965827725137\n",
            "epoch 30 \t loss = 7.299963991204913\n",
            "epoch 40 \t loss = 7.130606812739533\n",
            "epoch 50 \t loss = 7.081481494035259\n",
            "epoch 60 \t loss = 7.06589770840353\n",
            "epoch 70 \t loss = 7.060368592361077\n",
            "epoch 80 \t loss = 7.058171840555703\n",
            "epoch 90 \t loss = 7.057214713571451\n",
            "epoch 0 \t loss = 119.03629895379572\n",
            "epoch 10 \t loss = 13.356112005087674\n",
            "epoch 20 \t loss = 10.179950128091077\n",
            "epoch 30 \t loss = 8.576904513110614\n",
            "epoch 40 \t loss = 7.762165038406914\n",
            "epoch 50 \t loss = 7.347731122765961\n",
            "epoch 60 \t loss = 7.136824457829691\n",
            "epoch 70 \t loss = 7.02943481537311\n",
            "epoch 80 \t loss = 6.974713484736275\n",
            "epoch 90 \t loss = 6.946801047561418\n",
            "epoch 0 \t loss = 305.0857310108586\n",
            "epoch 10 \t loss = 16.224631677299396\n",
            "epoch 20 \t loss = 13.463891534481641\n",
            "epoch 30 \t loss = 11.566859558662854\n",
            "epoch 40 \t loss = 10.224713386995381\n",
            "epoch 50 \t loss = 9.268253210691238\n",
            "epoch 60 \t loss = 8.585500395050465\n",
            "epoch 70 \t loss = 8.098012714618454\n",
            "epoch 80 \t loss = 7.749999568456784\n",
            "epoch 90 \t loss = 7.501629481688493\n",
            "epoch 0 \t loss = 522.4039376341553\n",
            "epoch 10 \t loss = 21.436535049510617\n",
            "epoch 20 \t loss = 16.40462300381586\n",
            "epoch 30 \t loss = 14.844167684789113\n",
            "epoch 40 \t loss = 13.582716417732732\n",
            "epoch 50 \t loss = 12.53382558320794\n",
            "epoch 60 \t loss = 11.654287042359027\n",
            "epoch 70 \t loss = 10.91357314552974\n",
            "epoch 80 \t loss = 10.28843717818569\n",
            "epoch 90 \t loss = 9.76030300496244\n",
            "epoch 0 \t loss = 14.252329235888961\n",
            "epoch 10 \t loss = 7.734638965199666\n",
            "epoch 20 \t loss = 7.757216799158365\n",
            "epoch 30 \t loss = 7.757959398311457\n",
            "epoch 40 \t loss = 7.757979317782482\n",
            "epoch 50 \t loss = 7.75797984949801\n",
            "epoch 60 \t loss = 7.757979863689393\n",
            "epoch 70 \t loss = 7.757979864068153\n",
            "epoch 80 \t loss = 7.757979864078269\n",
            "epoch 90 \t loss = 7.757979864078528\n",
            "epoch 0 \t loss = 18.45478222779545\n",
            "epoch 10 \t loss = 7.7914686784518725\n",
            "epoch 20 \t loss = 7.319404222568059\n",
            "epoch 30 \t loss = 7.278717791165238\n",
            "epoch 40 \t loss = 7.272908198071872\n",
            "epoch 50 \t loss = 7.271940812947029\n",
            "epoch 60 \t loss = 7.271774748986257\n",
            "epoch 70 \t loss = 7.271746087723875\n",
            "epoch 80 \t loss = 7.271741136391675\n",
            "epoch 90 \t loss = 7.271740280893348\n",
            "epoch 0 \t loss = 21.7739246411689\n",
            "epoch 10 \t loss = 9.695926833356175\n",
            "epoch 20 \t loss = 7.712510692613173\n",
            "epoch 30 \t loss = 7.297855644295808\n",
            "epoch 40 \t loss = 7.198682797598174\n",
            "epoch 50 \t loss = 7.170406736873439\n",
            "epoch 60 \t loss = 7.160893624660053\n",
            "epoch 70 \t loss = 7.157305488291067\n",
            "epoch 80 \t loss = 7.155864393680952\n",
            "epoch 90 \t loss = 7.155267897575153\n",
            "epoch 0 \t loss = 64.9134621905922\n",
            "epoch 10 \t loss = 12.534351952618323\n",
            "epoch 20 \t loss = 9.36707937997386\n",
            "epoch 30 \t loss = 8.01051719936645\n",
            "epoch 40 \t loss = 7.430325577118667\n",
            "epoch 50 \t loss = 7.182795252957561\n",
            "epoch 60 \t loss = 7.077517219108724\n",
            "epoch 70 \t loss = 7.032949053551514\n",
            "epoch 80 \t loss = 7.014218403262243\n",
            "epoch 90 \t loss = 7.0064371550168\n"
          ]
        }
      ]
    },
    {
      "cell_type": "code",
      "source": [
        "print(param_search)"
      ],
      "metadata": {
        "colab": {
          "base_uri": "https://localhost:8080/"
        },
        "id": "dfr17vALoxA9",
        "outputId": "57c4c512-8dbc-4d66-8701-8905cf9e2776"
      },
      "execution_count": null,
      "outputs": [
        {
          "output_type": "stream",
          "name": "stdout",
          "text": [
            "[[6.928183981035156, 0.01, 2], [10.32262921182199, 0.01, 4], [12.829007744278934, 0.01, 8], [16.769865558763545, 0.01, 16], [4.304358380041828, 0.1, 2], [4.298354788149386, 0.1, 4], [4.29592650671183, 0.1, 8], [5.925695232966335, 0.1, 16], [4.309160771266014, 0.5, 2], [4.092155340625886, 0.5, 4], [4.185630646855852, 0.5, 8], [4.247944997508681, 0.5, 16]]\n"
          ]
        }
      ]
    },
    {
      "cell_type": "markdown",
      "source": [
        "Бачимо, що найкращий показник MSE (8.3347) дали параметри:\n",
        "\n",
        "`learning_rate` = 0.1\n",
        "\n",
        "`batch_size` = 4"
      ],
      "metadata": {
        "id": "YWhHEHucvMIB"
      }
    },
    {
      "cell_type": "markdown",
      "source": [
        "Побудуємо графік для даної моделі:"
      ],
      "metadata": {
        "id": "tS6pfWEbyFQ0"
      }
    },
    {
      "cell_type": "code",
      "source": [
        "model = PolynomialRegression(degree=3, learning_rate=0.1, batch_size=4, lambda_=0.01, max_iter=100)\n",
        "model.fit(train_df.X, train_df.Y)"
      ],
      "metadata": {
        "colab": {
          "base_uri": "https://localhost:8080/"
        },
        "id": "zzIoWTJ5vKqw",
        "outputId": "759c0362-af9f-4d83-c421-42f011a285f1"
      },
      "execution_count": null,
      "outputs": [
        {
          "output_type": "stream",
          "name": "stdout",
          "text": [
            "epoch 0 \t loss = 119.03629895379572\n",
            "epoch 10 \t loss = 13.356112005087674\n",
            "epoch 20 \t loss = 10.179950128091077\n",
            "epoch 30 \t loss = 8.576904513110614\n",
            "epoch 40 \t loss = 7.762165038406914\n",
            "epoch 50 \t loss = 7.347731122765961\n",
            "epoch 60 \t loss = 7.136824457829691\n",
            "epoch 70 \t loss = 7.02943481537311\n",
            "epoch 80 \t loss = 6.974713484736275\n",
            "epoch 90 \t loss = 6.946801047561418\n"
          ]
        },
        {
          "output_type": "execute_result",
          "data": {
            "text/plain": [
              "array([ 0.35448902, -0.13789247,  0.31515806,  0.04777281])"
            ]
          },
          "metadata": {},
          "execution_count": 18
        }
      ]
    },
    {
      "cell_type": "code",
      "source": [
        "ax = plt.axes()\n",
        "ax.set_xlabel('X')\n",
        "ax.set_ylabel('Y')\n",
        "\n",
        "plt.plot(X_data, model.predict(df.X), linewidth= 2, color = \"r\");\n",
        "plt.scatter(X_data, y_data);\n",
        "plt.show()"
      ],
      "metadata": {
        "id": "uN3lCKGfBksR",
        "colab": {
          "base_uri": "https://localhost:8080/",
          "height": 449
        },
        "outputId": "c06e6da7-bd53-4fbf-b6c1-c1e1515388f0"
      },
      "execution_count": null,
      "outputs": [
        {
          "output_type": "display_data",
          "data": {
            "text/plain": [
              "<Figure size 640x480 with 1 Axes>"
            ],
            "image/png": "[encoded data removed]"
          },
          "metadata": {}
        }
      ]
    }
  ],
  "metadata": {
    "colab": {
      "provenance": [],
      "authorship_tag": "ABX9TyPPjCsam8DHUjfxqjh+yviM",
      "include_colab_link": true
    },
    "kernelspec": {
      "display_name": "Python 3",
      "name": "python3"
    },
    "language_info": {
      "name": "python"
    }
  },
  "nbformat": 4,
  "nbformat_minor": 0
}
